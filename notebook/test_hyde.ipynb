{
 "cells": [
  {
   "cell_type": "markdown",
   "id": "976212b6-4d38-4008-8272-0c3a0f05f9bb",
   "metadata": {},
   "source": [
    "- 가상환경: venv_chat_backend_test"
   ]
  },
  {
   "cell_type": "code",
   "execution_count": 2,
   "id": "b56bee27-78b9-4fce-819e-acdc48f40fa5",
   "metadata": {},
   "outputs": [
    {
     "name": "stdout",
     "output_type": "stream",
     "text": [
      ".env 파일경로: /home/a543979/hdegis-chat-backend/.env\n",
      "/home/a543979/hdegis-chat-backend/key/pjt-dev-hdegis-app-454401-bd4fac2d452b.json\n"
     ]
    }
   ],
   "source": [
    "import os\n",
    "from dotenv import load_dotenv, find_dotenv\n",
    "\n",
    "print(f\".env 파일경로: {find_dotenv()}\")\n",
    "load_dotenv()\n",
    "print(os.getenv('GOOGLE_APPLICATION_CREDENTIALS'))"
   ]
  },
  {
   "cell_type": "code",
   "execution_count": 3,
   "id": "93edc719-ecc5-41b1-a80a-9664317d7d1a",
   "metadata": {},
   "outputs": [
    {
     "data": {
      "text/plain": [
       "'pjt-dev-hdegis-app-454401'"
      ]
     },
     "execution_count": 3,
     "metadata": {},
     "output_type": "execute_result"
    }
   ],
   "source": [
    "os.getenv(\"PROJECT_ID\")"
   ]
  },
  {
   "cell_type": "code",
   "execution_count": 4,
   "id": "3f6241d3-0a79-4b02-addd-7c5237e71253",
   "metadata": {},
   "outputs": [],
   "source": [
    "import pandas as pd\n",
    "import numpy as np\n",
    "\n",
    "from google import genai\n",
    "from google.genai import types\n",
    "\n",
    "from utils import UserInputProcessor"
   ]
  },
  {
   "cell_type": "code",
   "execution_count": 5,
   "id": "4a7caff9-69de-42a1-948b-a946de61adce",
   "metadata": {},
   "outputs": [],
   "source": [
    "genai_client = genai.Client(\n",
    "    vertexai=True,\n",
    "    project=os.getenv(\"PROJECT_ID\"),\n",
    "    location=os.getenv(\"LOCATION\")\n",
    ")\n",
    "\n",
    "user_input_processor = UserInputProcessor()"
   ]
  },
  {
   "cell_type": "code",
   "execution_count": 8,
   "id": "c7da7f23-ad63-4af0-a05c-57b46519e464",
   "metadata": {},
   "outputs": [
    {
     "name": "stderr",
     "output_type": "stream",
     "text": [
      "/opt/miniforge3/envs/venv_chat_backend_test/lib/python3.11/site-packages/openpyxl/worksheet/_reader.py:329: UserWarning: Data Validation extension is not supported and will be removed\n",
      "  warn(msg)\n"
     ]
    }
   ],
   "source": [
    "df = pd.read_excel(\"QA 성능테스트 v4.xlsx\")"
   ]
  },
  {
   "cell_type": "code",
   "execution_count": 6,
   "id": "9db2407b-dd07-405d-a1ee-343d8720659d",
   "metadata": {},
   "outputs": [],
   "source": [
    "HYDE_DOCUMENT_GENERATOR_PROMPT = '''\n",
    "You are an AI assistant specialized in generating hypothetical documents based on user queries. Your task is to create a detailed, factual document that would likely contain the answer to the user's question. This hypothetical document will be used to enhance the retrieval process in a Retrieval-Augmented Generation (RAG) system.\n",
    "\n",
    "Guidelines:\n",
    "1. Carefully analyze the user's query to understand the topic and the type of information being sought.\n",
    "2. Generate a hypothetical document that:\n",
    "   a. Is directly relevant to the query\n",
    "   b. Contains factual information that would answer the query\n",
    "   c. Includes additional context and related information\n",
    "   d. Uses a formal, informative tone similar to an encyclopedia or textbook entry\n",
    "3. Structure the document with clear paragraphs, covering different aspects of the topic.\n",
    "4. Include specific details, examples, or data points that would be relevant to the query.\n",
    "5. Aim for a document length of 200-300 words.\n",
    "6. Do not use citations or references, as this is a hypothetical document.\n",
    "7. Avoid using phrases like \"In this document\" or \"This text discusses\" - write as if it's a real, standalone document.\n",
    "8. Do not mention or refer to the original query in the generated document.\n",
    "9. Ensure the content is factual and objective, avoiding opinions or speculative information.\n",
    "10. Output only the generated document, without any additional explanations or meta-text.\n",
    "\n",
    "User Question:\n",
    "{user_query}\n",
    "\n",
    "Generate a hypothetical document that would likely contain the answer to this query:\n",
    "'''"
   ]
  },
  {
   "cell_type": "code",
   "execution_count": 10,
   "id": "458dd89e-bf23-4fad-840c-8d46d5bf0c37",
   "metadata": {},
   "outputs": [],
   "source": [
    "def create_hyde(user_query):\n",
    "    response = genai_client.models.generate_content(\n",
    "        model='gemini-2.0-flash-001',\n",
    "        contents=HYDE_DOCUMENT_GENERATOR_PROMPT.format(user_query=user_query)\n",
    "    )\n",
    "    return response.text"
   ]
  },
  {
   "cell_type": "code",
   "execution_count": 12,
   "id": "cda17ebd-4a04-46ae-8d8c-eed91592dd2c",
   "metadata": {
    "scrolled": true
   },
   "outputs": [
    {
     "name": "stdout",
     "output_type": "stream",
     "text": [
      "[01] Are there any requirements regarding the operating method of the circuit breaker, such as spring-operated or hydraulic-operated?\n",
      "ㄴ hyde: Circuit Breaker Operating Mechanisms\n",
      "\n",
      "Circuit breakers, critical components in electrical power systems, employ various operating mechanisms to rapidly interrupt fault currents. These mechanisms provide the necessary force and speed to open and close the breaker contacts. Common operating methods include spring-operated, hydraulic-operated, pneumatic-operated, and direct manual operation. The selection of an operating mechanism depends on factors such as voltage level, interrupting capacity, operating speed requirements, and application (e.g., transmission substation, distribution system, industrial facility).\n",
      "\n",
      "Spring-operated mechanisms utilize stored mechanical energy in compressed springs to drive the breaker contacts. These mechanisms are widely used for medium-voltage circuit breakers and are known for their reliability and relatively fast operating speeds. The springs are typically charged by an electric motor or manually. Hydraulic-operated mechanisms employ pressurized hydraulic fluid to actuate the breaker contacts. They are favored for high-voltage circuit breakers due to their ability to provide substantial force for interrupting large fault currents. These systems typically involve a hydraulic pump, accumulator, and control valves.\n",
      "\n",
      "Pneumatic-operated mechanisms use compressed air to move the breaker contacts. Similar to hydraulic systems, they are suitable for high-voltage applications requiring significant operating force. Air compressors, air tanks, and control valves are essential components of pneumatic operating systems. Direct manual operation is typically reserved for low-voltage circuit breakers, such as those found in residential or commercial settings. These breakers are operated by a handle or lever, providing a simple and direct means of opening and closing the contacts. Selection of the appropriate method depends on the specific requirements of the installation and the characteristics of the electrical system.\n",
      "\n",
      "\n"
     ]
    }
   ],
   "source": [
    "for i, row in df.iterrows():\n",
    "        \n",
    "    user_query = row['query']\n",
    "    print(f\"[{(i+1):02d}] {user_query}\")\n",
    "    \n",
    "    user_query_en = user_input_processor.tranlate(user_query)\n",
    "\n",
    "    hyde = create_hyde(user_query_en)\n",
    "    print(f\"ㄴ hyde: {hyde}\\n\")    \n",
    "    break"
   ]
  },
  {
   "cell_type": "code",
   "execution_count": null,
   "id": "359f832c-1d6e-4ff9-9e14-05c0fd2c2465",
   "metadata": {},
   "outputs": [],
   "source": []
  },
  {
   "cell_type": "code",
   "execution_count": null,
   "id": "2c405642-c63c-4882-aa08-cbe704ca2d16",
   "metadata": {},
   "outputs": [],
   "source": []
  },
  {
   "cell_type": "code",
   "execution_count": null,
   "id": "1285ecd8-f8ca-4365-b3e9-3df5879689ec",
   "metadata": {},
   "outputs": [],
   "source": []
  },
  {
   "cell_type": "code",
   "execution_count": null,
   "id": "fb120619-9d7d-45fd-8cb4-e455aa6bc352",
   "metadata": {},
   "outputs": [],
   "source": []
  },
  {
   "cell_type": "code",
   "execution_count": null,
   "id": "ec005585-e5bb-4125-b478-7016658ee2fe",
   "metadata": {},
   "outputs": [],
   "source": []
  },
  {
   "cell_type": "code",
   "execution_count": null,
   "id": "e8c76a41-72b0-4bad-96db-c212af251f5b",
   "metadata": {},
   "outputs": [],
   "source": []
  },
  {
   "cell_type": "code",
   "execution_count": null,
   "id": "1988c209-4c18-45a9-b0e6-89547355a204",
   "metadata": {},
   "outputs": [],
   "source": []
  },
  {
   "cell_type": "code",
   "execution_count": null,
   "id": "4d7ad531-e226-406d-bb49-84a1495cde8c",
   "metadata": {},
   "outputs": [],
   "source": []
  },
  {
   "cell_type": "code",
   "execution_count": null,
   "id": "ed6c6b7c-c798-4825-b7f6-67e8c29b5b43",
   "metadata": {},
   "outputs": [],
   "source": []
  },
  {
   "cell_type": "code",
   "execution_count": null,
   "id": "f4438d87-b850-4dfc-ae7f-7c4c946fc4d1",
   "metadata": {},
   "outputs": [],
   "source": []
  },
  {
   "cell_type": "code",
   "execution_count": null,
   "id": "4915e41f-0dbc-42f5-a6a7-0e3281529786",
   "metadata": {},
   "outputs": [],
   "source": []
  },
  {
   "cell_type": "code",
   "execution_count": null,
   "id": "b95e5aa9-a72f-45d5-8e85-27ce4ce74845",
   "metadata": {},
   "outputs": [],
   "source": []
  },
  {
   "cell_type": "code",
   "execution_count": null,
   "id": "e5f495ce-b90b-4acb-86d8-7004c605c47e",
   "metadata": {},
   "outputs": [],
   "source": []
  },
  {
   "cell_type": "code",
   "execution_count": null,
   "id": "3b92ef9d-890a-43b9-9c8c-8d35d49d908e",
   "metadata": {},
   "outputs": [],
   "source": []
  },
  {
   "cell_type": "code",
   "execution_count": null,
   "id": "a6877321-5ec7-4217-8f3c-8c8e6648918e",
   "metadata": {},
   "outputs": [],
   "source": []
  },
  {
   "cell_type": "code",
   "execution_count": null,
   "id": "7e5664f8-7879-44e5-beb3-7cbdbb7077fb",
   "metadata": {},
   "outputs": [],
   "source": []
  },
  {
   "cell_type": "code",
   "execution_count": null,
   "id": "11216cea-4c8a-46a3-83fe-0c07036b9ca3",
   "metadata": {},
   "outputs": [],
   "source": []
  },
  {
   "cell_type": "code",
   "execution_count": null,
   "id": "cce57f37-92d7-4faf-94e4-35d91ca90478",
   "metadata": {},
   "outputs": [],
   "source": []
  },
  {
   "cell_type": "code",
   "execution_count": null,
   "id": "5d128a50-a0c6-4755-b40a-793c98ed0e9e",
   "metadata": {},
   "outputs": [],
   "source": []
  },
  {
   "cell_type": "code",
   "execution_count": null,
   "id": "915f6ed0-a9d0-4892-960c-c7734efe357c",
   "metadata": {},
   "outputs": [],
   "source": []
  },
  {
   "cell_type": "code",
   "execution_count": null,
   "id": "65127ea9-2f05-4031-8c84-6fcdafdf12e8",
   "metadata": {},
   "outputs": [],
   "source": []
  },
  {
   "cell_type": "code",
   "execution_count": null,
   "id": "4b4a6277-dc31-4731-8319-5b4c574169ce",
   "metadata": {},
   "outputs": [],
   "source": []
  },
  {
   "cell_type": "code",
   "execution_count": null,
   "id": "0c2c41b4-244f-4e6b-bed0-e265b9ab72ba",
   "metadata": {},
   "outputs": [],
   "source": []
  },
  {
   "cell_type": "code",
   "execution_count": null,
   "id": "e9f092a3-467d-4777-9189-a1e12a3d1345",
   "metadata": {},
   "outputs": [],
   "source": []
  },
  {
   "cell_type": "code",
   "execution_count": null,
   "id": "95c94c29-a76d-4a93-8d91-5a56897be455",
   "metadata": {},
   "outputs": [],
   "source": [
    "prompt = \"\"\"\n",
    "You are a retrieval assistant that generates realistic hypothetical content from documents based on a user query and the type of documents in a folder.\n",
    "\n",
    "You will receive:\n",
    "- A folder description: describing the kinds of documents stored in the folder\n",
    "- A user query: a question from the user\n",
    "\n",
    "Your task is to:\n",
    "1. Analyze the folder description to understand what kinds of technical or regulatory information these documents typically include.\n",
    "2. Understand the user's query and what type of information would likely satisfy it.\n",
    "3. Generate **3 to 5 short but informative sentences or paragraphs** that could realistically appear in one of those documents and would help answer the query.\n",
    "\n",
    "Guidelines:\n",
    "- Your outputs should reflect different possible scenarios or phrasing that such a document might include.\n",
    "- Do not repeat or paraphrase the user query.\n",
    "- Use precise, technical, and formal language similar to engineering specifications or regulatory documents.\n",
    "- Each output should be standalone — as if it were extracted from a real document.\n",
    "- Include conditions, preferences, limitations, or exceptions if relevant.\n",
    "- Avoid chatty, explanatory, or meta language — focus on generating content that sounds like it comes from a real spec.\n",
    "\n",
    "---\n",
    "\n",
    "Example:\n",
    "\n",
    "**Folder Description:**  \n",
    "This folder contains standard specification documents from power companies and national authorities. These documents include technical requirements that must be followed during the design and manufacturing of high-voltage circuit breakers, such as insulation levels, operation methods, and environmental conditions.\n",
    "\n",
    "**User Query:**  \n",
    "Are there any requirements regarding the operating method of the circuit breaker, such as spring-operated or hydraulic-operated?\n",
    "\n",
    "**Hypothetical Sentences or Paragraphs (3–5 diverse examples):**\n",
    "\n",
    "1. The operating mechanism shall be of the motor-spring type. Any alternative mechanisms, such as hydraulic systems, require prior written approval from the client.\n",
    "\n",
    "2. For circuit breakers installed in coastal environments, hydro-mechanical operating systems are preferred due to better sealing performance and environmental resilience.\n",
    "\n",
    "3. Spring-operated mechanisms are not permitted for 400 kV class breakers, due to insufficient stored energy capacity under maximum fault conditions.\n",
    "\n",
    "4. Both electromechanical and hydraulic mechanisms are allowed; however, the selected system must comply with the endurance requirements specified in section 6.2.\n",
    "\n",
    "5. In projects involving REE, the accumulation of energy for circuit breaker operation must be mechanical (spring-based), regardless of the actuation system.\n",
    "\n",
    "---\n",
    "\n",
    "Now generate 3 to 5 realistic document-style sentences or short paragraphs that could answer the following query:\n",
    "\n",
    "**Folder Description:**  \n",
    "{folder_description}\n",
    "\n",
    "**User Query:**  \n",
    "{user_query}\n",
    "\n",
    "**Hypothetical Document Snippets:**\n",
    "\n",
    "\"\"\""
   ]
  },
  {
   "cell_type": "code",
   "execution_count": null,
   "id": "8ccd5e86-d934-436e-b5d4-53dfbc99f9e2",
   "metadata": {},
   "outputs": [],
   "source": [
    "folder_descriptions_expanded = {\n",
    "    '1. International Standards': 'This folder includes international standards and specification documents essential for the design and testing of high-voltage circuit breakers. It contains technical references from global standardization bodies such as IEC and IEEE, and is used to support product development and the establishment of internal design standards.',\n",
    "    'IEC': 'This folder contains standards and specification documents related to high-voltage equipment, issued by the International Electrotechnical Commission (IEC). It includes global guidelines for design, testing, and safety compliance.',\n",
    "    'IEEE': 'This folder provides IEEE (Institute of Electrical and Electronics Engineers) standards, focusing on design specifications and testing procedures used primarily in North American markets.',\n",
    "    '2. Type Test Reports': 'This folder contains type test reports of manufactured high-voltage circuit breakers. Reports are organized by model and test year, and include results on insulation performance, interruption capability, and other test metrics.',\n",
    "    '145SP-3': 'Type test data and reports for the 145SP-3 circuit breaker model, covering various performance metrics.',\n",
    "    '145 kV 40 kA MS (2017)': 'A test report for a 145kV / 40kA circuit breaker from the 145SP-3 model line, tested in 2017.',\n",
    "    '300SR': 'Type test data and reports for the 300SR circuit breaker model.',\n",
    "    '245 kV 50 kA MS (2020)': 'A test report for a 245kV / 50kA circuit breaker of the 300SR model, tested in 2020.',\n",
    "    '245 kV 63 kA MS (2024)': 'A test report for a 245kV / 63kA circuit breaker of the 300SR model, tested in 2024.',\n",
    "    '3. Customer Standard Specifications': 'This folder contains standard specification documents provided by various countries, power authorities, and individual consumers. These documents should be referred to when product designs need to reflect customer-specific requirements, such as local regulations or special installation or performance conditions.',\n",
    "    'Endeavour Energy': 'Standard specification documents from Endeavour Energy, a power company based in Australia, which may include specific design requirements or operational preferences.',\n",
    "    'OETC': 'Standard specification documents from OETC (Oman Electricity Transmission Company), detailing their technical and regulatory requirements.',\n",
    "    'SEC': 'Standard specification documents from the Saudi Electricity Company (SEC), outlining design and compliance standards for circuit breakers.',\n",
    "    'Iberdrola': 'Standard specification documents from Iberdrola, a Spanish power company, including customer-specific electrical design requirements.',\n",
    "    'REE': 'Standard specification documents from Red Eléctrica de España (REE), a major transmission company in Spain, including their required standards and preferences for high-voltage circuit breakers.',\n",
    "}"
   ]
  },
  {
   "cell_type": "code",
   "execution_count": null,
   "id": "8d1fe0db-477c-4635-bef4-1424af4f3dfb",
   "metadata": {},
   "outputs": [],
   "source": [
    "folder_description = \"\"\"\n",
    "This folder contains standard specification documents provided by various countries, power authorities, and individual consumers. These documents should be referred to when product designs need to reflect customer-specific requirements, such as local regulations or special installation or performance conditions.\n",
    "Standard specification documents from Red Eléctrica de España (REE), a major transmission company in Spain, including their required standards and preferences for high-voltage circuit breakers.\n",
    "\"\"\""
   ]
  },
  {
   "cell_type": "code",
   "execution_count": null,
   "id": "ed887b05-d403-4e37-b7c2-b63ea435412a",
   "metadata": {},
   "outputs": [],
   "source": [
    "user_query = \"Are there any requirements regarding the operating method of the circuit breaker, such as spring-operated or hydraulic-operated?\""
   ]
  },
  {
   "cell_type": "code",
   "execution_count": null,
   "id": "1e7ded7b-ae73-4563-be57-872028343a68",
   "metadata": {},
   "outputs": [],
   "source": [
    "final_prompt = prompt.format(folder_description=folder_description.strip(), user_query=user_query).strip()"
   ]
  },
  {
   "cell_type": "code",
   "execution_count": null,
   "id": "99114eb6-81a9-4056-b4cd-091c762618dc",
   "metadata": {},
   "outputs": [],
   "source": [
    "print(final_prompt)"
   ]
  },
  {
   "cell_type": "code",
   "execution_count": null,
   "id": "13885666-acd6-49d8-9a83-1f05e83147fe",
   "metadata": {},
   "outputs": [],
   "source": [
    "response = genai_client.models.generate_content(\n",
    "    model='gemini-2.0-flash-001',\n",
    "    contents=final_prompt\n",
    ")"
   ]
  },
  {
   "cell_type": "code",
   "execution_count": null,
   "id": "89339e5b-88ae-46c7-ab1d-21664204dba9",
   "metadata": {},
   "outputs": [],
   "source": [
    "print(response.text)"
   ]
  },
  {
   "cell_type": "code",
   "execution_count": null,
   "id": "d97b619a-d574-4bb7-b96d-9e49d56a3b16",
   "metadata": {},
   "outputs": [],
   "source": [
    "\"\"\"\n",
    "You are an Intent-Aware Query Expansion Assistant for a retrieval-based Q&A system.\n",
    "\n",
    "Your task is to expand user queries so they reflect the user's true intent more explicitly, in a way that is optimized for document retrieval.\n",
    "\n",
    "You will receive:\n",
    "- A folder description: a description of the types of documents the user wants to search in\n",
    "- A user query: the initial question or request from the user\n",
    "\n",
    "Follow these steps:\n",
    "1. Read the folder description carefully and determine **what kinds of documents are available in that folder**, and **what types of information they are likely to contain**.\n",
    "2. Analyze the user query to understand the **underlying purpose** of the question. What specific information is the user trying to find?\n",
    "   - Think about implicit assumptions, goals, or examples the user may have in mind.\n",
    "3. Based on steps 1 and 2, expand the user query into a more specific and fully-formed version. The expanded query should:\n",
    "   - Clearly state what the user is trying to find\n",
    "   - Be easy for a document retrieval system to match against available content\n",
    "   - Include examples or clarification if necessary\n",
    "   - Avoid simple paraphrasing\n",
    "\n",
    "Return only the expanded query. Do not include explanations.\n",
    "\n",
    "---\n",
    "\n",
    "Example:\n",
    "\n",
    "**Folder Description:**  \n",
    "Standard specification documents provided by each country and customer. Refer to when delivering the product if you need a design that reflects customer requirements. This may include local application regulations and special requirements.\n",
    "\n",
    "**User Query:**  \n",
    "Are there any requirements regarding the operating method of the circuit breaker, such as spring-operated or hydraulic-operated?\n",
    "\n",
    "**Expanded Query:**  \n",
    "According to the standard specifications from the customer or country, are there any explicit requirements or preferences for the operating mechanism of the circuit breaker—for example, whether it must be spring-operated or hydraulic-operated? I am looking for information that specifies mandatory or preferred operation types that should be reflected in the product design.\n",
    "\n",
    "---\n",
    "\n",
    "Now expand the following user query using the given folder description:\n",
    "\n",
    "**Folder Description:**  \n",
    "{{folder_description}}\n",
    "\n",
    "**User Query:**  \n",
    "{{user_query}}\n",
    "\n",
    "**Expanded Query:**\n",
    "\n",
    "\"\"\""
   ]
  },
  {
   "cell_type": "markdown",
   "id": "b435bbd4-269d-40f7-8656-ed27c6fea492",
   "metadata": {},
   "source": [
    "## LangChain "
   ]
  },
  {
   "cell_type": "code",
   "execution_count": null,
   "id": "24083fb4-c0f5-4018-89b1-400bc9ca2c7b",
   "metadata": {},
   "outputs": [],
   "source": [
    "import os\n",
    "from dotenv import load_dotenv, find_dotenv\n",
    "\n",
    "print(f\".env 파일경로: {find_dotenv()}\")\n",
    "load_dotenv()\n",
    "print(os.getenv('GOOGLE_APPLICATION_CREDENTIALS'))"
   ]
  },
  {
   "cell_type": "code",
   "execution_count": null,
   "id": "9b6b7444-3959-4761-ba19-d943514c21d1",
   "metadata": {},
   "outputs": [],
   "source": [
    "from langchain.chat_models import init_chat_model\n",
    "\n",
    "model = init_chat_model(\"gemini-2.0-flash-001\", model_provider=\"google_vertexai\")"
   ]
  },
  {
   "cell_type": "code",
   "execution_count": null,
   "id": "b3e6e37b-6dbb-40e8-87d0-656c6172b4a8",
   "metadata": {},
   "outputs": [],
   "source": [
    "from langchain_core.output_parsers import StrOutputParser\n",
    "from langchain_core.prompts import ChatPromptTemplate\n",
    "\n",
    "prompt = ChatPromptTemplate.from_template(\"tell me a joke about {topic}\")\n",
    "\n",
    "chain = prompt | model | StrOutputParser()"
   ]
  },
  {
   "cell_type": "code",
   "execution_count": null,
   "id": "75e999cc-e5d6-472a-9096-ed8cc3203908",
   "metadata": {},
   "outputs": [],
   "source": [
    "chain.invoke({\"topic\": \"bears\"})"
   ]
  },
  {
   "cell_type": "code",
   "execution_count": null,
   "id": "fa3f2a4a-2e56-4865-9614-4a9db84c4e35",
   "metadata": {},
   "outputs": [],
   "source": [
    "from langchain_core.output_parsers import StrOutputParser\n",
    "\n",
    "analysis_prompt = ChatPromptTemplate.from_template(\"is this a funny joke? {joke}\")\n",
    "\n",
    "composed_chain = {'joke': chain} | analysis_prompt | model | StrOutputParser()"
   ]
  },
  {
   "cell_type": "code",
   "execution_count": null,
   "id": "e6a7387c-2c09-43f9-9531-7a01abd99c56",
   "metadata": {},
   "outputs": [],
   "source": [
    "composed_chain.invoke({\"topic\": \"bears\"})"
   ]
  },
  {
   "cell_type": "markdown",
   "id": "48a1372c-c3dc-4073-ab4d-ac0b4343c4e8",
   "metadata": {},
   "source": [
    "## utils"
   ]
  },
  {
   "cell_type": "markdown",
   "id": "a31fc9d3-c0e0-489b-bc0f-3d464e876d98",
   "metadata": {},
   "source": [
    "### 번역함수"
   ]
  },
  {
   "cell_type": "code",
   "execution_count": null,
   "id": "83bb91b4-e56f-47ad-95cf-ab14fbbeb640",
   "metadata": {},
   "outputs": [],
   "source": [
    "def translate_text(text):\n",
    "    from google.cloud import translate_v2 as translate\n",
    "    # Reference: https://cloud.google.com/translate/docs/basic/translate-text-basic?hl=ko#translate_translate_text-python\n",
    "\n",
    "    translate_client = translate.Client()\n",
    "    if isinstance(text, bytes):\n",
    "        text = text.decode('utf-8')\n",
    "    result = translate_client.translate(text, target_language='en')\n",
    "\n",
    "    return result['translatedText']"
   ]
  },
  {
   "cell_type": "code",
   "execution_count": null,
   "id": "ac23d869-4fd4-4210-8d6f-450144d05375",
   "metadata": {},
   "outputs": [],
   "source": [
    "# 동작확인\n",
    "text = 'IEC와 IEEE 규격에 따른 고압 차단기의 SF₆ 가스 연간 허용 누기율 기준은 어떻게 되나요?'\n",
    "translate_text(text=text)"
   ]
  },
  {
   "cell_type": "markdown",
   "id": "d35a5493-f7df-4c43-a8ca-8c600f475f7c",
   "metadata": {},
   "source": [
    "### 엑셀"
   ]
  },
  {
   "cell_type": "code",
   "execution_count": null,
   "id": "08660cbe-8352-4a10-bee0-d6251869359c",
   "metadata": {},
   "outputs": [],
   "source": [
    "def revert_to_original_name(modified_name):\n",
    "    \"\"\"\n",
    "    변환된 엑셀 표 이름을 원래대로 복원\n",
    "    - 이중 언더스코어(`__`) → 슬래시(`/`)\n",
    "    - 언더스코어(`_`) → 공백\n",
    "    \"\"\"\n",
    "    # 슬래시 복원 (`__` → `/`)\n",
    "    original_name = modified_name.replace(\"__\", \"/\")\n",
    "    # 언더스코어(`_`) → 공백\n",
    "    original_name = original_name.replace(\"_\", \" \")\n",
    "\n",
    "    return original_name"
   ]
  },
  {
   "cell_type": "code",
   "execution_count": null,
   "id": "7662d0d3-69dc-41ba-bbf0-77009c66533f",
   "metadata": {},
   "outputs": [],
   "source": [
    "def convert_to_excel_name(original_name):\n",
    "    \"\"\"\n",
    "    엑셀 표 이름 규칙에 맞게 변환\n",
    "    - 공백 → _\n",
    "    - 슬래시(/) → __ (이중 언더스코어)\n",
    "    - 숫자 + 점 제거 (예: '1. ' → '')\n",
    "    - 특수 문자 제거 ('(', ')', '-')\n",
    "    \"\"\"\n",
    "    import re\n",
    "    # 숫자 + 점(`1.`) 제거\n",
    "    modified_name = re.sub(r'^\\d+\\.\\s*', '', original_name)\n",
    "    # 슬래시(`/`) → `__`\n",
    "    modified_name = modified_name.replace(\"/\", \"__\")\n",
    "    # 공백 → `_`\n",
    "    modified_name = modified_name.replace(\" \", \"_\")\n",
    "    # 특수 문자 제거 (`(`, `)`, `-`)\n",
    "    modified_name = re.sub(r'[()-]', '', modified_name)\n",
    "\n",
    "    return modified_name"
   ]
  },
  {
   "cell_type": "markdown",
   "id": "2f84c1ec-1c5b-42c7-ba3d-349e152ec3f3",
   "metadata": {},
   "source": [
    "## 검색성능 평가를 위한 QA 데이터셋 가져오기"
   ]
  },
  {
   "cell_type": "code",
   "execution_count": null,
   "id": "5fd8cc25-3f36-43cb-9051-8966ce524f5f",
   "metadata": {},
   "outputs": [],
   "source": [
    "import pandas as pd\n",
    "df = pd.read_excel('QA 성능테스트 v4.xlsx')"
   ]
  },
  {
   "cell_type": "code",
   "execution_count": null,
   "id": "f5de2737-ebbb-41cd-9475-a7c9cf99c0e2",
   "metadata": {
    "scrolled": true
   },
   "outputs": [],
   "source": [
    "index_name_lst = ['hde_hvcb_text_004', 'hde_hvcb_text_0815', 'hde_hvcb_text_m_002']\n",
    "emb_model_lst = ['text-embedding-004', 'text-embedding-005', 'text-multilingual-embedding-002']\n",
    "k_lst = [3, 5, 10]\n",
    "\n",
    "for iii in range(3):\n",
    "    INDEX_NAME = index_name_lst[iii]\n",
    "    EMB_MODEL_NAME = emb_model_lst[iii]\n",
    "    print(\"=================================================\")\n",
    "    print(f\"INDEX_NAME: {INDEX_NAME}\")\n",
    "    print(f\"EMB_MODEL_NAME: {EMB_MODEL_NAME}\")\n",
    "    # es = Search()\n",
    "    \n",
    "    for K in k_lst:\n",
    "        \n",
    "        \n",
    "        # 검색 성능 평가 (페이지 포함)\n",
    "        hit_at_k = []\n",
    "        reciprocal_ranks = []\n",
    "        \n",
    "        # 검색 결과 기록\n",
    "        result_data = []\n",
    "        \n",
    "        for i, row in df.iterrows():\n",
    "            ###################################### INPUT 변경 ######################################\n",
    "            # input_content = []\n",
    "            ###################################### INPUT 변경 ######################################\n",
    "            \n",
    "            # GT reference\n",
    "            # gt_ref = []\n",
    "            # for n in range(1, 14):\n",
    "            #     if pd.isna(row[f\"path_{n}\"]):\n",
    "            #         break\n",
    "            #     path = row[f\"path_{n}\"]\n",
    "            #     filename = row[f\"filename_{n}\"]\n",
    "            #     page = int(row[f'page_{n}'])\n",
    "            #     gt_ref.append((path, filename, page))\n",
    "        \n",
    "                ###################################### INPUT 변경 ######################################\n",
    "                # content = row[f\"content_{n}\"]\n",
    "                # input_content.append(content)\n",
    "                ###################################### INPUT 변경 ######################################\n",
    "                \n",
    "            # Query\n",
    "            # query = row['query']\n",
    "            ###################################### INPUT 변경 ######################################\n",
    "            # query += \"\\n\".join(input_content)\n",
    "            # query += row['gt_answer']\n",
    "            ###################################### INPUT 변경 ######################################\n",
    "            # lang = row['lang']\n",
    "            # input_query = query\n",
    "            \n",
    "            # if EMB_MODEL_NAME in ['text-embedding-004', 'text-embedding-005']:\n",
    "            #     multilinguality = False\n",
    "            # elif EMB_MODEL_NAME in ['text-multilingual-embedding-002']:\n",
    "            #     multilinguality = True\n",
    "                \n",
    "            # if (not multilinguality) and lang == 'kor':\n",
    "                # input_query = translate_text(query)\n",
    "            # print(query)\n",
    "            # query_embedding = es.get_embedding(input_query)\n",
    "\n",
    "            print(row['query'])\n",
    "            # 적용할 필터\n",
    "            user_defined_filters = row['폴더 선택 (검색 범위 지정)'].split('&')\n",
    "            els_filters = [user_defined_filter.split('/')[-1].strip() for user_defined_filter in user_defined_filters]\n",
    "            match_phrase_filters = [\n",
    "                {'match_phrase': {'folder_levels': phrase}}\n",
    "                for phrase in els_filters\n",
    "            ]\n",
    "            print(row['폴더 선택 (검색 범위 지정)'])\n",
    "            print(user_defined_filters)\n",
    "            print(match_phrase_filters)\n",
    "            print(\"-------------------\")\n",
    "        \n",
    "            # 검색 (w/ filter)\n",
    "        #     resp = es.es.search(\n",
    "        #         index=INDEX_NAME,\n",
    "        #         knn={\n",
    "        #             'field': 'embedding',\n",
    "        #             'query_vector': query_embedding,\n",
    "        #             'k': K,\n",
    "        #             'num_candidates': 100,\n",
    "        #             'filter': {\n",
    "        #                 'bool': {\n",
    "        #                     'should': match_phrase_filters,\n",
    "        #                     'minimum_should_match': 1\n",
    "        #                 }\n",
    "        #             }\n",
    "        #         },\n",
    "        #         fields=[\"folder_levels\", \"pdf_name\", \"page\"],\n",
    "        #         source=False,\n",
    "        #     )\n",
    "\n",
    "            \n",
    "        \n",
    "        #     # 검색결과\n",
    "        #     search_ref = []\n",
    "        #     for idx, result in enumerate(resp['hits']['hits'], start=1):\n",
    "        #         folder_levels = '/'.join(result['fields']['folder_levels'])\n",
    "        #         folder_levels = convert_to_excel_name(folder_levels)\n",
    "        #         pdf_name = result['fields']['pdf_name'][0]\n",
    "        #         page = int(result['fields']['page'][0])\n",
    "        #         score = result['_score']\n",
    "        #         search_ref.append((folder_levels, pdf_name, page))\n",
    "        \n",
    "        #         # 결과 저장\n",
    "        #         result_data.append({\n",
    "        #             'filter': user_defined_filters,\n",
    "        #             'query': query,\n",
    "        #             'input_query': input_query,\n",
    "        #             'search_rank': idx,\n",
    "        #             'search_result': (folder_levels, pdf_name, page),\n",
    "        #             'is_hit': (folder_levels, pdf_name, page) in gt_ref,\n",
    "        #             'score': score,\n",
    "        #             'gt_refs': gt_ref\n",
    "        #         })\n",
    "        \n",
    "        #     # 검색성능 평가 (Hit@K)\n",
    "        #     hit = any(item in gt_ref for item in search_ref) # True or False\n",
    "        #     hit_at_k.append(hit)\n",
    "        \n",
    "        #     # 검색성능 평가 (Reciprocal Rank)\n",
    "        #     reciprocal_rank = 0\n",
    "        #     for rank, search_item in enumerate(search_ref, start=1):\n",
    "        #         if search_item in gt_ref:\n",
    "        #             reciprocal_rank = 1 / rank\n",
    "        #             break\n",
    "        #     reciprocal_ranks.append(reciprocal_rank)\n",
    "        \n",
    "        \n",
    "        #     # 결과출력\n",
    "        #     # print(f\"[{i+1}]\")\n",
    "        #     # print(f\"query: {query}\")\n",
    "        #     # print(f\"filter: {row['폴더 선택 (검색 범위 지정)']}\")\n",
    "        #     # print(f\"match_pharse_filters: {match_phrase_filters}\")\n",
    "        #     # print(\"----------------------------------\")\n",
    "        #     # print(f\"search_ref:\")\n",
    "        #     # for s in search_ref:\n",
    "        #     #     print(s)\n",
    "        #     # print(\"----------------------------------\")\n",
    "        #     # print(f\"gt_ref:\")\n",
    "        #     # for g in gt_ref:\n",
    "        #     #     print(g)\n",
    "        #     # print(\"----------------------------------\")\n",
    "        #     # print(f\"Hit@K: {hit}\")\n",
    "        #     # print(f\"rr: {reciprocal_rank}\")\n",
    "        #     # print(\"=======================================================================\")\n",
    "        \n",
    "        \n",
    "        # mrr = np.mean(reciprocal_ranks)\n",
    "        # hit_at_k_score = np.mean(hit_at_k)\n",
    "        # print(f\"[최종결과]\")\n",
    "        # # print(f\"EMB_MODEL_NAME: {EMB_MODEL_NAME}\")\n",
    "        # print(f\"K: {K}\")\n",
    "        # print(f\"Hit@{K}: {hit_at_k_score * 100:.2f}%\")\n",
    "        # print(f\"Mean Reciporcal Rank (MRR): {mrr * 100:.2f}%\")\n",
    "        # print(\"-----\")"
   ]
  },
  {
   "cell_type": "code",
   "execution_count": null,
   "id": "4f08ed32-f588-481f-bbb6-dee675835167",
   "metadata": {},
   "outputs": [],
   "source": []
  },
  {
   "cell_type": "code",
   "execution_count": null,
   "id": "cc6c6e56-77d6-4eeb-a8dd-04cda5663395",
   "metadata": {},
   "outputs": [],
   "source": []
  },
  {
   "cell_type": "markdown",
   "id": "5df1cac8-b399-442b-9605-dd9e91919a36",
   "metadata": {},
   "source": [
    "## Elastic 초기화"
   ]
  },
  {
   "cell_type": "code",
   "execution_count": null,
   "id": "3e1eb424-e24c-42d9-ac94-90d2166a8c6b",
   "metadata": {},
   "outputs": [],
   "source": [
    "from elasticsearch import Elasticsearch\n",
    "import warnings\n",
    "from urllib3.exceptions import InsecureRequestWarning\n",
    "warnings.filterwarnings('ignore', category=InsecureRequestWarning)\n",
    "\n",
    "# Elasitc Client 관련\n",
    "ES_HOST = \"https://node.hd-aic.com:30692\"\n",
    "ES_USER = \"genai_hde\"\n",
    "ES_PASSWORD = \"wpsAI1@\"\n",
    "ES_TIMEOUT = 3600\n",
    "CA_CERT = None # CA_CERT는 필요하면 설정 (예: \"../app/conf/ess-cloud.cer\")\n",
    "\n",
    "es = Elasticsearch(\n",
    "    hosts=[ES_HOST],\n",
    "    basic_auth=(ES_USER, ES_PASSWORD),\n",
    "    verify_certs=False\n",
    ")"
   ]
  },
  {
   "cell_type": "markdown",
   "id": "31534762-2374-43a6-951f-6785ea3165e2",
   "metadata": {},
   "source": [
    "## Elastic으로 검색"
   ]
  },
  {
   "cell_type": "code",
   "execution_count": null,
   "id": "bab4e271-8a03-489c-b447-940589ad2089",
   "metadata": {},
   "outputs": [],
   "source": [
    "INDEX_NAME = 'hde_hvcb_text_004'\n",
    "EMBEDDING_MODEL = 'text-embedding-004'\n",
    "TOP_K = 3"
   ]
  },
  {
   "cell_type": "code",
   "execution_count": null,
   "id": "2a6f47c2-1514-434d-9d2d-140b8be7ee77",
   "metadata": {},
   "outputs": [],
   "source": [
    "resp = es.es.search(\n",
    "                index=INDEX_NAME,\n",
    "                knn={\n",
    "                    'field': 'embedding',\n",
    "                    'query_vector': query_embedding,\n",
    "                    'k': K,\n",
    "                    'num_candidates': 100,\n",
    "                    'filter': {\n",
    "                        'bool': {\n",
    "                            'should': match_phrase_filters,\n",
    "                            'minimum_should_match': 1\n",
    "                        }\n",
    "                    }\n",
    "                },\n",
    "                fields=[\"folder_levels\", \"pdf_name\", \"page\"],\n",
    "                source=False,\n",
    "            )"
   ]
  }
 ],
 "metadata": {
  "kernelspec": {
   "display_name": "Python(venv_chat_backend_test)",
   "language": "python",
   "name": "venv_chat_backend_test"
  },
  "language_info": {
   "codemirror_mode": {
    "name": "ipython",
    "version": 3
   },
   "file_extension": ".py",
   "mimetype": "text/x-python",
   "name": "python",
   "nbconvert_exporter": "python",
   "pygments_lexer": "ipython3",
   "version": "3.11.11"
  }
 },
 "nbformat": 4,
 "nbformat_minor": 5
}
