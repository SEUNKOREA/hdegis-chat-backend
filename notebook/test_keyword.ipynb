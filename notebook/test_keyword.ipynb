{
 "cells": [
  {
   "cell_type": "code",
   "execution_count": 1,
   "id": "23c72377-70fd-4126-97ff-d57e3e729b0c",
   "metadata": {},
   "outputs": [
    {
     "name": "stdout",
     "output_type": "stream",
     "text": [
      "/home/a543979/hdegis-chat-backend/.env\n",
      "/home/a543979/hdegis-chat-backend/key/pjt-dev-hdegis-app-454401-bd4fac2d452b.json\n"
     ]
    }
   ],
   "source": [
    "import os\n",
    "from dotenv import load_dotenv, find_dotenv\n",
    "\n",
    "load_dotenv()\n",
    "\n",
    "print(find_dotenv())\n",
    "print(os.getenv(\"GOOGLE_APPLICATION_CREDENTIALS\"))"
   ]
  },
  {
   "cell_type": "code",
   "execution_count": 2,
   "id": "44678c9d-5afa-4cd2-9ebb-0296a1269851",
   "metadata": {},
   "outputs": [],
   "source": [
    "from google import genai\n",
    "from google.genai import types\n",
    "import pandas as pd\n",
    "from utils import UserInputProcessor"
   ]
  },
  {
   "cell_type": "code",
   "execution_count": 4,
   "id": "b60d9788-824a-4949-a940-411451bd44e9",
   "metadata": {},
   "outputs": [],
   "source": [
    "ELASTIC_KEYWORD_SEARCH_QUERY_GENERATOR_PROMPT = '''\n",
    "You are an AI assistant specialized in generating Elasticsearch query strings. Your task is to create the most effective query string for the given user question. This query string will be used to search for relevant documents in an Elasticsearch index.\n",
    "\n",
    "Guidelines:\n",
    "1. Analyze the user's question carefully.\n",
    "2. Generate ONLY a query string suitable for Elasticsearch's match query.\n",
    "3. Focus on key terms and concepts from the question.\n",
    "4. Include synonyms, related terms, and various word forms that might be in relevant documents:\n",
    "   - Include common synonyms and closely related concepts\n",
    "   - Consider different tenses of verbs (e.g., walk, walks, walked, walking)\n",
    "   - Include singular and plural forms of nouns\n",
    "   - Add common abbreviations or acronyms if applicable\n",
    "5. Use simple Elasticsearch query string syntax if helpful (e.g., OR).\n",
    "6. Do not use advanced Elasticsearch features or syntax.\n",
    "7. Do not include any explanations, comments, or additional text.\n",
    "8. Provide only the query string, nothing else.\n",
    "\n",
    "For the question \"What is Clickthrough Data?\", we would expect a response like:\n",
    "clickthrough data OR click-through data OR click through rate OR CTR OR user clicks OR ad clicks OR search engine results OR web analytics OR clicking OR clicked OR click OR clicks OR engagement OR interaction OR conversion OR traffic\n",
    "\n",
    "Use only OR as the operator. AND is not allowed.\n",
    "\n",
    "User Question:\n",
    "{user_query}\n",
    "\n",
    "Generate the Elasticsearch query string:\n",
    "'''"
   ]
  },
  {
   "cell_type": "code",
   "execution_count": 5,
   "id": "539eb780-55f5-492b-a386-2c92d7df0371",
   "metadata": {},
   "outputs": [],
   "source": [
    "genai_client = genai.Client(\n",
    "    vertexai=True,\n",
    "    project='pjt-dev-hdegis-app-454401',\n",
    "    location='us-central1'\n",
    ")\n",
    "\n",
    "user_input_processor = UserInputProcessor()"
   ]
  },
  {
   "cell_type": "code",
   "execution_count": 6,
   "id": "b576b230-c0a6-43b5-9882-e88b9568ca1e",
   "metadata": {},
   "outputs": [],
   "source": [
    "def create_keywords(user_query):\n",
    "    response = genai_client.models.generate_content(\n",
    "        model='gemini-2.0-flash-001',\n",
    "        contents=ELASTIC_SEARCH_QUERY_GENERATOR_PROMPT.format(user_query=user_query)\n",
    "    )\n",
    "    return response.text"
   ]
  },
  {
   "cell_type": "code",
   "execution_count": 9,
   "id": "eff687e8-13d8-4ede-a9ab-6f5d5bd15651",
   "metadata": {},
   "outputs": [
    {
     "data": {
      "text/plain": [
       "Index(['질문분류', 'comment', 'idx', '폴더 선택 (검색 범위 지정)', 'lang', 'query',\n",
       "       'gt_answer', 'path_1', 'filename_1', 'page_1', 'content_1', 'path_2',\n",
       "       'filename_2', 'page_2', 'content_2', 'path_3', 'filename_3', 'page_3',\n",
       "       'content_3', 'path_4', 'filename_4', 'page_4', 'content_4', 'path_5',\n",
       "       'filename_5', 'page_5', 'content_5', 'path_6', 'filename_6', 'page_6',\n",
       "       'content_6', 'path_7', 'filename_7', 'page_7', 'content_7', 'path_8',\n",
       "       'filename_8', 'page_8', 'content_8', 'path_9', 'filename_9', 'page_9',\n",
       "       'content_9', 'path_10', 'filename_10', 'page_10', 'content_10',\n",
       "       'path_11', 'filename_11', 'page_11', 'content_11', 'path_12',\n",
       "       'filename_12', 'page_12', 'content_12', 'path_13', 'filename_13',\n",
       "       'page_13', 'content_13'],\n",
       "      dtype='object')"
      ]
     },
     "execution_count": 9,
     "metadata": {},
     "output_type": "execute_result"
    }
   ],
   "source": [
    "df.columns"
   ]
  },
  {
   "cell_type": "code",
   "execution_count": 10,
   "id": "7ce8acbe-53cf-4615-b3f0-1c9120bcc1ce",
   "metadata": {},
   "outputs": [
    {
     "name": "stderr",
     "output_type": "stream",
     "text": [
      "/opt/miniforge3/envs/venv_chat_backend_test/lib/python3.11/site-packages/openpyxl/worksheet/_reader.py:329: UserWarning: Data Validation extension is not supported and will be removed\n",
      "  warn(msg)\n"
     ]
    },
    {
     "name": "stdout",
     "output_type": "stream",
     "text": [
      "[01] Are there any requirements regarding the operating method of the circuit breaker, such as spring-operated or hydraulic-operated?\n",
      "ㄴ keywords: ['circuit breaker', 'breakers', 'operating method', 'operation', 'spring-operated', 'spring operated', 'hydraulic-operated', 'hydraulic operated', 'mechanism', 'requirements', 'standards', 'regulations', 'specifications', 'IEC', 'ANSI', 'IEEE', 'safety', 'performance', 'design', 'construction', 'manual', 'automatic', 'electrical', 'power system', 'switchgear']\n",
      "\n",
      "[02] Shall the local control cubicle (LCC) be a standalone type or integral type\n",
      "ㄴ keywords: ['local control cubicle', 'LCC', 'standalone', 'integral', 'type', 'local', 'control', 'cubicle', 'self-supporting', 'independent', 'attached', 'built-in', 'integrated', 'form', 'kind', 'model', 'design', 'configuration']\n",
      "\n",
      "[03] Are there any restrictions on using Chinese or foreign products?\n",
      "ㄴ keywords: ['chinese products', 'foreign products', 'imported products', 'international products', 'china made', 'restrictions', 'limitations', 'prohibitions', 'constraints', 'regulations', 'rules', 'policies', 'trade barriers', 'embargoes', 'tariffs', 'sanctions', 'compliance', 'allowed', 'permitted', 'banned', 'restricted', 'forbidden', 'overseas products']\n",
      "\n",
      "[04] Are there any restrictions or preferences regarding the manufacturing or testing location of the gas-insulated switchgear, its components, or related systems such as the local control cabinet, mentioned in the specification?\n",
      "ㄴ keywords: ['restrictions', 'limitations', 'preferences', 'requirements', 'specifications', 'standards', 'rules', 'guidelines', 'manufacturing', 'manufactured', 'manufacture', 'fabrication', 'producing', 'produced', 'production', 'testing', 'test', 'tested', 'inspection', 'inspecting', 'inspected', 'location', 'locations', 'site', 'sites', 'facility', 'facilities', 'place', 'places', 'gas-insulated switchgear', 'GIS', 'components', 'part', 'parts', 'element', 'elements', 'system', 'systems', 'related systems', 'control cabinet', 'local control cabinet', 'LCC', 'assembly', 'assemblies', 'subassembly', 'subassemblies']\n",
      "\n",
      "[05] Are there any requirements regarding the point-on-wave controller?\n",
      "ㄴ keywords: ['point-on-wave controller', 'point on wave controller', 'point-on-wave switching', 'point on wave switching', 'zero-crossing detection', 'synchronous switching', 'voltage control', 'current control', 'power electronics', 'electrical engineering', 'requirements', 'requirement', 'regulation', 'guideline', 'specification', 'standard', 'criteria', 'prerequisite', 'mandatory', 'necessary', 'needed']\n",
      "\n",
      "[06] Are there any requirements regarding the Controlled Switching Device, Point-On-Wave Controller, and Phase Synchronizing Device?\n",
      "ㄴ keywords: ['controlled switching device', 'point-on-wave controller', 'phase synchronizing device', 'controlled switch', 'switching devices', 'point on wave', 'point-on wave', 'phase synchronization', 'synchronizing phase', 'controller requirements', 'device requirements', 'switching requirements', 'synchronization requirements', 'switchgear', 'power electronics', 'voltage controller', 'current controller', 'phase angle', 'power system', 'electrical system']\n",
      "\n",
      "[07] Are there any requirements for the gas leakage rate of the gas insulated switchgear?\n",
      "ㄴ keywords: ['gas leakage rate', 'gas-leakage rate', 'gas leak rate', 'gas insulated switchgear', 'GIS', 'gas insulated system', 'gas loss', 'gas emission', 'leakage requirements', 'leakage limits', 'leakage standards', 'leakage specifications', 'allowable leakage', 'permissible leakage', 'maximum leakage', 'leakage threshold', 'leak rate', 'leak limits', 'leak standards', 'leak specifications', 'leak threshold', 'leaking', 'leaked']\n",
      "\n",
      "[08] Are there any requirements for the insulation medium of the 132 kV gas-insulated switchgear?\n",
      "ㄴ keywords: ['insulation medium', 'insulating medium', '132 kV', '132kV', 'gas-insulated switchgear', 'GIS', 'switchgear insulation', 'dielectric', 'dielectric strength', 'insulating oil', 'SF6', 'sulfur hexafluoride', 'requirements', 'specification', 'standards', 'criteria', 'mandatory', 'necessary', 'essential', 'needed']\n",
      "\n",
      "[09] Are there any specific requirements or preferences mentioned in the document regarding the insulation medium for the 132 kV gas-insulated switchgear, such as the use of SF6 gas or its alternatives?\n",
      "ㄴ keywords: ['insulation medium', '132 kV', 'gas-insulated switchgear', 'GIS', 'SF6', 'sulfur hexafluoride', 'alternative gases', 'gas alternatives', 'dielectric gas', 'insulation gas', 'requirements', 'preferences', 'specifications', 'standards', 'guidelines', 'recommendations', 'restrictions', 'limitations', 'SF6 alternatives', 'non-SF6 gases', 'fluorinated gases', 'climate friendly gases', 'eco-friendly gases', 'green gases', 'insulation properties', 'dielectric strength', 'global warming potential', 'GWP', 'environmental impact', 'gas composition', 'gas mixture']\n",
      "\n",
      "[10] What is the rated continuous current of the 132 kV GIS?\n",
      "ㄴ keywords: ['rated continuous current', 'continuous rated current', '132 kV GIS', '132kV GIS', 'GIS', 'Gas Insulated Switchgear', 'current rating', 'ampacity', 'amperage', 'current carrying capacity', 'maximum current', 'rated current', 'continuous current', 'thermal rating', 'electrical rating', 'conductor current', 'switchgear current', 'transmission line current', 'high voltage current', 'HV current']\n",
      "\n",
      "[11] Are there any requirements regarding the operating method of the circuit breaker, such as spring-operated or hydraulic-operated?\n",
      "ㄴ keywords: ['circuit breaker operating method', 'spring operated', 'hydraulic operated', 'operation', 'mechanism', 'trip', 'tripping', 'close', 'closing', 'open', 'opening', 'electrical', 'power', 'system', 'requirements', 'standards', 'regulations', 'compliance', 'manual', 'automatic', 'remote', 'control', 'switchgear', 'protection', 'safety']\n",
      "\n",
      "[12] Are there any requirements regarding the on-line PD monitoring system?\n",
      "ㄴ keywords: ['online PD monitoring system', 'on-line PD monitoring system', 'partial discharge monitoring system', 'PD monitoring requirements', 'online requirements', 'monitoring requirements', 'system requirements', 'specifications', 'standards', 'regulations', 'guidelines', 'criteria', 'policies', 'compliance', 'mandatory', 'necessary', 'essential', 'required', 'needed', 'stipulation', 'condition', 'provision', 'term']\n",
      "\n",
      "[13] Are there any requirements regarding the monitoring systems?\n",
      "ㄴ keywords: ['monitoring systems', 'monitoring requirements', 'system monitoring', 'requirements monitoring', 'monitor', 'monitors', 'monitored', 'monitoring', 'observation', 'surveillance', 'oversight', 'tracking', 'logging', 'assessment', 'evaluation', 'auditing', 'compliance', 'regulations', 'standards', 'policies', 'guidelines', 'criteria', 'specifications', 'mandates', 'necessities', 'obligations']\n",
      "\n",
      "[14] In accordance with IEC 62271-203_Edition 2.0_2011-08, what type of type tests are required for gas insulated switchgear?\n",
      "ㄴ keywords: ['IEC 62271-203', 'Edition 2.0', '2011-08', 'gas insulated switchgear', 'GIS', 'type tests', 'type test', 'required tests', 'testing', 'tested', 'test', 'tests', 'certification', 'compliance', 'verification', 'validation', 'high voltage', 'switchgear', 'gas insulated', 'IEC standards', 'IEC']\n",
      "\n",
      "[15] What is the rated SF6 gas pressure at 20°C of the gas insulated model of 145SP-3?\n",
      "ㄴ keywords: ['SF6', 'sulfur hexafluoride', 'gas insulated', 'GIS', '145SP-3', '145SP3', 'rated pressure', 'gas pressure', 'pressure rating', '20 degrees Celsius', 'twenty degrees Celsius', 'temperature', 'Celsius', 'SF6 pressure', 'gas insulated switchgear', 'pressure at 20C', 'SF6 gas pressure']\n",
      "\n",
      "[17] IEC와 IEEE 규격에 따른 고압 차단기의 SF₆ 가스 연간 허용 누기율 기준은 어떻게 되나요?\n",
      "ㄴ keywords: ['SF6', 'sulfur hexafluoride', 'leakage', 'leak', 'leaking', 'leaks', 'rate', 'rates', 'annual', 'yearly', 'allowable', 'permissible', 'limit', 'limits', 'high-voltage', 'high voltage', 'circuit breakers', 'IEC', 'IEEE', 'standard', 'standards', 'regulations', 'guidelines']\n",
      "\n",
      "[19] 145SP-3 모델의 온도상승 시험은 어떤 규격에 따라 진행된 것이고 주위 온도 몇 도를 기준으로 진행된 건가요?\n",
      "ㄴ keywords: ['temperature rise test', 'temperature rating test', 'thermal test', 'heat test', '145SP-3', '145SP3', 'model 145SP-3', 'standards', 'reference', 'ambient temperature', 'environmental temperature', 'testing conditions', 'test procedure', 'IEC', 'UL', 'IEEE', 'ANSI', 'NEMA']\n",
      "\n",
      "[22] 145SP-3 모델의 Capacitive current switching 시험에서 실제 시험 전류값은 어떻게 되나요?\n",
      "ㄴ keywords: ['actual test current', 'test current value', 'capacitive current switching test', '145SP-3', '145SP3', 'model', 'capacitive current', 'switching test', 'current value', 'test current', 'actual current', 'measured current', 'current measurement', 'ampere', 'amps', 'current', 'testing', 'test', 'actual', 'value', '145SP']\n",
      "\n",
      "[24] Electrical endurance E2 class를 요구하는 수용가를 알려주세요.\n",
      "ㄴ keywords: ['users', 'user', 'electrical', 'endurance', 'class', 'E2', 'require', 'requires', 'required', 'needing', 'need']\n",
      "\n",
      "[25] Duplex는 어떠한 경우에 적용해야 하는지 알려주세요.\n",
      "ㄴ keywords: ['duplex', 'duplexing', 'duplexer', 'two-sided', 'double-sided', 'printing', 'printers', 'copiers', 'copying', 'scanning', 'scanners', 'automatically', 'automatic', 'case', 'cases', 'when', 'application', 'apply', 'applies', 'applied', 'scenario', 'scenarios', 'situation', 'situations', 'instance', 'instances', 'example', 'examples', 'reason', 'reasons', 'purpose', 'purposes', 'where', 'circumstances']\n",
      "\n"
     ]
    }
   ],
   "source": [
    "df = pd.read_excel(\"QA 성능테스트 v4.xlsx\")\n",
    "\n",
    "for i, row in df.iterrows():\n",
    "    if row['질문분류'] == 'reasoning':\n",
    "        continue\n",
    "        \n",
    "    user_query = row['query']\n",
    "    print(f\"[{(i+1):02d}] {user_query}\")\n",
    "    \n",
    "    if user_input_processor.detect_language(user_query) == 'ko':\n",
    "        user_query = user_input_processor.tranlate(user_query)\n",
    "\n",
    "    keywords = create_keywords(user_query)\n",
    "    keywords = [keyword.strip() for keyword in keywords.split(\" OR \")]\n",
    "    print(f\"ㄴ keywords: {keywords}\\n\")    \n",
    "    \n",
    "    "
   ]
  },
  {
   "cell_type": "code",
   "execution_count": null,
   "id": "6d565dac-1244-439f-b8f8-fcd8c275dd3c",
   "metadata": {},
   "outputs": [],
   "source": []
  }
 ],
 "metadata": {
  "kernelspec": {
   "display_name": "Python(venv_chat_backend_test)",
   "language": "python",
   "name": "venv_chat_backend_test"
  },
  "language_info": {
   "codemirror_mode": {
    "name": "ipython",
    "version": 3
   },
   "file_extension": ".py",
   "mimetype": "text/x-python",
   "name": "python",
   "nbconvert_exporter": "python",
   "pygments_lexer": "ipython3",
   "version": "3.11.11"
  }
 },
 "nbformat": 4,
 "nbformat_minor": 5
}
